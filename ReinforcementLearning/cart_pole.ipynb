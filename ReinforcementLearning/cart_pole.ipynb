{
 "cells": [
  {
   "cell_type": "markdown",
   "source": [
    "# Reinforcement Learning: Control Problems"
   ],
   "metadata": {}
  },
  {
   "cell_type": "code",
   "execution_count": 346,
   "source": [
    "%matplotlib inline"
   ],
   "outputs": [],
   "metadata": {}
  },
  {
   "cell_type": "code",
   "execution_count": 347,
   "source": [
    "import torch\n",
    "import torch.nn as nn\n",
    "import torch.optim as optim\n",
    "import gym\n",
    "import numpy as np\n",
    "import matplotlib.pyplot as plt\n",
    "import random\n",
    "from collections import namedtuple, deque\n",
    "torch.manual_seed(0)"
   ],
   "outputs": [
    {
     "output_type": "execute_result",
     "data": {
      "text/plain": [
       "<torch._C.Generator at 0x10be1ba30>"
      ]
     },
     "metadata": {},
     "execution_count": 347
    }
   ],
   "metadata": {}
  },
  {
   "cell_type": "markdown",
   "source": [
    "This notebook will focus on solving a class of RL problems known as control problems. "
   ],
   "metadata": {}
  },
  {
   "cell_type": "markdown",
   "source": [
    "## Environment"
   ],
   "metadata": {}
  },
  {
   "cell_type": "markdown",
   "source": [
    "RL learns optimal sequential decision-making through interaction with an environment. \n",
    "\n",
    "We will use the [Cart Pole](https://www.gymlibrary.dev/environments/classic_control/cart_pole/) environment from OpenAI's Gym library. In this environment a pole is attached by an un-actuated joint to a cart, which moves along a frictionless track. The pendulum is placed upright on the cart and the goal is to balance the pole by applying forces in the left and right direction on the cart.\n",
    "\n",
    "The goal is to keep the pole upright for as long as possible, so a reward of +1 for every step taken, including the termination step, is alloted. \n",
    "\n",
    "The episode ends if any one of the following occurs:\n",
    "1. Termination: Pole Angle is greater than ±12°\n",
    "2. Termination: Cart Position is greater than ±2.4 (center of the cart reaches the edge of the display)\n",
    "3. Truncation: Episode length is greater than 500"
   ],
   "metadata": {}
  },
  {
   "cell_type": "markdown",
   "source": [
    "We begin by initializing the environment. "
   ],
   "metadata": {}
  },
  {
   "cell_type": "code",
   "execution_count": 348,
   "source": [
    "env = gym.make('CartPole-v1')"
   ],
   "outputs": [],
   "metadata": {}
  },
  {
   "cell_type": "markdown",
   "source": [
    "\n",
    "The observation space is an array with shape $(4,)$ with the values:\n",
    "1. Cart position (min:$-4.8$, max:$4.8$)\n",
    "2. Cart velocity (min:$-\\inf$, max:$\\inf$)\n",
    "3. Pole angle (min:$\\sim -0.418 \\text{rad} (-24^\\circ)$, max:$\\sim 0.418 \\text{rad} (-24^\\circ)$)\n",
    "4. Pole angular velocity (min:$-\\inf$, max:$\\inf$)\n",
    "\n",
    "\n",
    "Initial state: All observations are assigned a uniformly random value in `(-0.05, 0.05)`"
   ],
   "metadata": {}
  },
  {
   "cell_type": "code",
   "execution_count": 349,
   "source": [
    "state_size = env.observation_space.shape[0]\n",
    "state_size"
   ],
   "outputs": [
    {
     "output_type": "execute_result",
     "data": {
      "text/plain": [
       "4"
      ]
     },
     "metadata": {},
     "execution_count": 349
    }
   ],
   "metadata": {}
  },
  {
   "cell_type": "code",
   "execution_count": 350,
   "source": [
    "env.reset()"
   ],
   "outputs": [
    {
     "output_type": "execute_result",
     "data": {
      "text/plain": [
       "(array([-0.00788696,  0.02057347, -0.0285085 ,  0.00262838], dtype=float32),\n",
       " {})"
      ]
     },
     "metadata": {},
     "execution_count": 350
    }
   ],
   "metadata": {}
  },
  {
   "cell_type": "markdown",
   "source": [
    "## Action selection"
   ],
   "metadata": {}
  },
  {
   "cell_type": "markdown",
   "source": [
    "The action space is $\\{0, 1\\}$, which corresponds to push cart to the left/right, respectively. \n",
    "We define a function that selects an action based on the current state according to the $\\epsilon$-greedy policy."
   ],
   "metadata": {}
  },
  {
   "cell_type": "code",
   "execution_count": 351,
   "source": [
    "action_size = env.action_space.n\n",
    "action_size"
   ],
   "outputs": [
    {
     "output_type": "execute_result",
     "data": {
      "text/plain": [
       "2"
      ]
     },
     "metadata": {},
     "execution_count": 351
    }
   ],
   "metadata": {}
  },
  {
   "cell_type": "code",
   "execution_count": 352,
   "source": [
    "def select_action(q_net, state, epsilon):\n",
    "    if random.random() < epsilon:\n",
    "        return random.randint(0, action_size - 1)\n",
    "    else:\n",
    "        with torch.no_grad():\n",
    "            q_values = q_net(torch.FloatTensor(state))\n",
    "            return int(torch.argmax(q_values))"
   ],
   "outputs": [],
   "metadata": {}
  },
  {
   "cell_type": "markdown",
   "source": [
    "## Networks"
   ],
   "metadata": {}
  },
  {
   "cell_type": "markdown",
   "source": [
    "The Q-network is modeled as a simple linear neural network, which takes in the state and outputs two numbers; the value of performing each of the two actions, respectively, in that state. "
   ],
   "metadata": {}
  },
  {
   "cell_type": "code",
   "execution_count": 353,
   "source": [
    "class QNetwork(nn.Module):\n",
    "    def __init__(self, input_size=state_size, hidden_size=2**7, output_size=action_size):\n",
    "        super(QNetwork, self).__init__()\n",
    "        self.fc1 = nn.Linear(input_size, hidden_size)\n",
    "        self.fc2 = nn.Linear(hidden_size, output_size)\n",
    "        self.activation = nn.ReLU()\n",
    "\n",
    "    def forward(self, x):\n",
    "        x = self.activation(self.fc1(x))\n",
    "        x = self.fc2(x)\n",
    "        return x"
   ],
   "outputs": [],
   "metadata": {}
  },
  {
   "cell_type": "markdown",
   "source": [
    "## DQN"
   ],
   "metadata": {}
  },
  {
   "cell_type": "markdown",
   "source": [
    "[Deep Q-Network (DQN)](https://arxiv.org/pdf/1312.5602.pdf) is a value-based RL algorithm which is based on combining deep learning with the traditional Q-learning algorithm. "
   ],
   "metadata": {}
  },
  {
   "cell_type": "markdown",
   "source": [
    "### Replay memory"
   ],
   "metadata": {}
  },
  {
   "cell_type": "markdown",
   "source": [
    "One of the clever innovations of DQN was the use of replay memory to ensure more diverse gradient sampels when updating the neural network. \n",
    "\n",
    "In reinforcement learning, the tuple $(S, A, R, S')$ is known as a transition. In our case we also add a final elemen $D$ which indicates if the state was terminal or not. "
   ],
   "metadata": {}
  },
  {
   "cell_type": "code",
   "execution_count": 354,
   "source": [
    "Transition = namedtuple('Transition', ('state', 'action', 'reward', 'next_state', 'done'))"
   ],
   "outputs": [],
   "metadata": {}
  },
  {
   "cell_type": "markdown",
   "source": [
    "A replay memory stores a bunch of these transitions."
   ],
   "metadata": {}
  },
  {
   "cell_type": "code",
   "execution_count": 355,
   "source": [
    "class ReplayMemory(object):\n",
    "    def __init__(self, capacity: int) -> None:\n",
    "        self.memory = deque([],maxlen=capacity)\n",
    "\n",
    "    def push(self, *args) -> None:\n",
    "        \"\"\"Save a transition\"\"\"\n",
    "        self.memory.append(Transition(*args))\n",
    "\n",
    "    def sample(self, batch_size: int):\n",
    "        return random.sample(self.memory, batch_size)\n",
    "\n",
    "    def __len__(self) -> int:\n",
    "        return len(self.memory)"
   ],
   "outputs": [],
   "metadata": {}
  },
  {
   "cell_type": "markdown",
   "source": [
    "And the agent randomly samples transitions from the replay memory when updating the policy, which aids in updating the neural network by doing it on different types of experiences. "
   ],
   "metadata": {}
  },
  {
   "cell_type": "code",
   "execution_count": 356,
   "source": [
    "def get_batch(replay_buffer: ReplayMemory, batch_size: int):\n",
    "    if len(replay_buffer) < batch_size:\n",
    "        return\n",
    "    if batch_size < 2:\n",
    "        raise ValueError(\"Argument batch_size must be integer >= 2\")\n",
    "    \n",
    "    batch = replay_buffer.sample(batch_size)\n",
    "    batch = Transition(*zip(*batch))\n",
    "    return batch.state, batch.action, batch.reward, batch.next_state, batch.done"
   ],
   "outputs": [],
   "metadata": {}
  },
  {
   "cell_type": "markdown",
   "source": [
    "### Target network"
   ],
   "metadata": {}
  },
  {
   "cell_type": "markdown",
   "source": [
    "Another innovation of DQN is the use of target networks to implement periodic updates to the Q-networks to stabilize learning and avoiding the problem of chasing moving targets.  "
   ],
   "metadata": {}
  },
  {
   "cell_type": "markdown",
   "source": [
    "We use the soft update method of gradually copying the weight over to the target network. "
   ],
   "metadata": {}
  },
  {
   "cell_type": "code",
   "execution_count": 357,
   "source": [
    "def soft_updates(net: torch.nn.Module, target_net: torch.nn.Module, tau=0.1):\n",
    "    \"\"\" Ø' <- tØ' + (1-t)Ø \"\"\"\n",
    "    with torch.no_grad():\n",
    "        for p, p_targ in zip(net.parameters(), target_net.parameters()):\n",
    "            p_targ.data.mul_(tau)\n",
    "            p_targ.data.add_((1 - tau) * p.data)"
   ],
   "outputs": [],
   "metadata": {}
  },
  {
   "cell_type": "markdown",
   "source": [
    "### Training loop"
   ],
   "metadata": {}
  },
  {
   "cell_type": "markdown",
   "source": [
    "Return critic loss $(Q(s_t, a_t) - (\\gamma  Q(s_{t+1}, a') + R))^2 / N$ for $t = 0,1,...,N$ for all $N$ elements in the batch. "
   ],
   "metadata": {}
  },
  {
   "cell_type": "code",
   "execution_count": 358,
   "source": [
    "def get_loss(batch: tuple, net: torch.nn.Module, target_net: torch.nn.Module, gamma: int) -> torch.Tensor: \n",
    "    states, actions, rewards, next_states, dones = batch\n",
    "\n",
    "    # Convert to PyTorch tensors\n",
    "    states = torch.tensor(np.array(states)).float()\n",
    "    actions = torch.tensor(actions)\n",
    "    rewards = torch.tensor(rewards).float()\n",
    "    next_states = torch.tensor(next_states).float()\n",
    "    dones = torch.tensor(dones)\n",
    "\n",
    "    # Compute Q values\n",
    "    current_q_values = net(states).gather(1, actions.unsqueeze(1))\n",
    "    next_q_values = target_net(next_states).max(dim=1)[0].detach()\n",
    "\n",
    "    # Compute targets\n",
    "    targets = rewards + gamma * next_q_values * (1 - dones.float())\n",
    "    targets = targets.unsqueeze(1)\n",
    "\n",
    "    # Use Mean Squared Error loss\n",
    "    return nn.MSELoss()(current_q_values, targets)\n"
   ],
   "outputs": [],
   "metadata": {}
  },
  {
   "cell_type": "markdown",
   "source": [
    "Get a batch, get the loss and perform a gradient ascent step. "
   ],
   "metadata": {}
  },
  {
   "cell_type": "code",
   "execution_count": 359,
   "source": [
    "def update(replay_buffer: ReplayMemory, batch_size: int, net: torch.nn.Module, target_net: torch.nn.Module, optimizer: torch.optim, gamma: int) -> None:\n",
    "    batch = get_batch(replay_buffer, batch_size)\n",
    "    if batch is None:\n",
    "        return\n",
    "\n",
    "    loss = get_loss(batch, net, target_net, gamma)\n",
    "\n",
    "    optimizer.zero_grad()\n",
    "    loss.backward()\n",
    "    torch.nn.utils.clip_grad_norm_(net.parameters(), 1) ###\n",
    "    optimizer.step()"
   ],
   "outputs": [],
   "metadata": {}
  },
  {
   "cell_type": "markdown",
   "source": [
    "The DQN training algorithm involves looping over a desired number of training episodes, and for each episode we:\n",
    "* Repeat until the episode is finished:\n",
    "    1. select action based on the state we are in (initial state for first action)\n",
    "    2. perform action in environment, and get the next state, reward, and a boolean flag that signifies if the episode is finished\n",
    "    3. update the Q-network\n",
    "    4. update the target-network\n"
   ],
   "metadata": {}
  },
  {
   "cell_type": "code",
   "execution_count": 389,
   "source": [
    "def train_dqn(q_network, target_network, optimizer, scheduler, replay_buffer, num_episodes=1000, batch_size=32, gamma=0.99, epsilon_decay=0.995, min_epsilon=0.01):\n",
    "    rewards = []\n",
    "\n",
    "    for episode in range(num_episodes):\n",
    "        state = env.reset()[0]\n",
    "        total_reward = 0\n",
    "        epsilon = max(min_epsilon, epsilon_decay ** episode)\n",
    "        done = False\n",
    "\n",
    "        while not done:\n",
    "            action = select_action(q_network, state, epsilon)\n",
    "            next_state, reward, done, _, _ = env.step(action)\n",
    "\n",
    "            replay_buffer.push(state, action, reward, next_state, done)\n",
    "            update(replay_memory, batch_size, q_network, target_network, optimizer, gamma)\n",
    "            soft_updates(q_network, target_network)\n",
    "\n",
    "            state = next_state\n",
    "            total_reward += reward\n",
    "        \n",
    "        scheduler.step()\n",
    "        rewards.append(total_reward)\n",
    "\n",
    "    return rewards"
   ],
   "outputs": [],
   "metadata": {}
  },
  {
   "cell_type": "markdown",
   "source": [
    "Now we \n",
    "* Initialize the Q-network\n",
    "* Initialize the target-network, and copy the weights from the q-network\n",
    "* Initialize the optimizer\n",
    "* Initialize the scheduler\n",
    "* Initialize the replay memory\n",
    "* Run the training loop"
   ],
   "metadata": {}
  },
  {
   "cell_type": "code",
   "execution_count": 394,
   "source": [
    "hidden_size = 2**8\n",
    "q_network = QNetwork(state_size, hidden_size, action_size)\n",
    "\n",
    "target_network = QNetwork(state_size, hidden_size, action_size)\n",
    "target_network.load_state_dict(q_network.state_dict())\n",
    "\n",
    "optimizer = optim.Adam(q_network.parameters(), lr=1e-3)\n",
    "\n",
    "scheduler = optim.lr_scheduler.StepLR(optimizer, step_size=100, gamma=0.1)\n",
    "\n",
    "replay_memory_size = 10**4\n",
    "replay_memory = ReplayMemory(replay_memory_size)\n",
    "\n",
    "rewards = train_dqn(q_network, target_network, optimizer, scheduler, replay_memory, \n",
    "          num_episodes=500, \n",
    "          batch_size=2**7, \n",
    "          gamma=1-1e-2, \n",
    "          epsilon_decay=1-1e-2,\n",
    "          min_epsilon=1e-6,\n",
    "          )"
   ],
   "outputs": [],
   "metadata": {}
  },
  {
   "cell_type": "markdown",
   "source": [
    "Finally we plot the (smoothed) rewards"
   ],
   "metadata": {}
  },
  {
   "cell_type": "code",
   "execution_count": 395,
   "source": [
    "# Plotting rewards\n",
    "window_size=10\n",
    "smoothed_rewards = np.convolve(rewards, np.ones(window_size)/window_size, mode='valid')\n",
    "plt.plot(smoothed_rewards)\n",
    "plt.xlabel('Episode')\n",
    "plt.ylabel('Total Reward')\n",
    "plt.title('DQN Training Progress')\n",
    "plt.show()"
   ],
   "outputs": [
    {
     "output_type": "display_data",
     "data": {
      "text/plain": [
       "<Figure size 640x480 with 1 Axes>"
      ],
      "image/svg+xml": "<?xml version=\"1.0\" encoding=\"utf-8\" standalone=\"no\"?>\n<!DOCTYPE svg PUBLIC \"-//W3C//DTD SVG 1.1//EN\"\n  \"http://www.w3.org/Graphics/SVG/1.1/DTD/svg11.dtd\">\n<svg xmlns:xlink=\"http://www.w3.org/1999/xlink\" width=\"411.285625pt\" height=\"325.986375pt\" viewBox=\"0 0 411.285625 325.986375\" xmlns=\"http://www.w3.org/2000/svg\" version=\"1.1\">\n <metadata>\n  <rdf:RDF xmlns:dc=\"http://purl.org/dc/elements/1.1/\" xmlns:cc=\"http://creativecommons.org/ns#\" xmlns:rdf=\"http://www.w3.org/1999/02/22-rdf-syntax-ns#\">\n   <cc:Work>\n    <dc:type rdf:resource=\"http://purl.org/dc/dcmitype/StillImage\"/>\n    <dc:date>2023-12-01T21:46:33.018178</dc:date>\n    <dc:format>image/svg+xml</dc:format>\n    <dc:creator>\n     <cc:Agent>\n      <dc:title>Matplotlib v3.6.0, https://matplotlib.org/</dc:title>\n     </cc:Agent>\n    </dc:creator>\n   </cc:Work>\n  </rdf:RDF>\n </metadata>\n <defs>\n  <style type=\"text/css\">*{stroke-linejoin: round; stroke-linecap: butt}</style>\n </defs>\n <g id=\"figure_1\">\n  <g id=\"patch_1\">\n   <path d=\"M 0 325.986375 \nL 411.285625 325.986375 \nL 411.285625 0 \nL 0 0 \nz\n\" style=\"fill: #ffffff\"/>\n  </g>\n  <g id=\"axes_1\">\n   <g id=\"patch_2\">\n    <path d=\"M 46.965625 288.430125 \nL 404.085625 288.430125 \nL 404.085625 22.318125 \nL 46.965625 22.318125 \nz\n\" style=\"fill: #ffffff\"/>\n   </g>\n   <g id=\"matplotlib.axis_1\">\n    <g id=\"xtick_1\">\n     <g id=\"line2d_1\">\n      <defs>\n       <path id=\"m811b73ab6f\" d=\"M 0 0 \nL 0 3.5 \n\" style=\"stroke: #000000; stroke-width: 0.8\"/>\n      </defs>\n      <g>\n       <use xlink:href=\"#m811b73ab6f\" x=\"63.198352\" y=\"288.430125\" style=\"stroke: #000000; stroke-width: 0.8\"/>\n      </g>\n     </g>\n     <g id=\"text_1\">\n      <!-- 0 -->\n      <g transform=\"translate(60.017102 303.028562) scale(0.1 -0.1)\">\n       <defs>\n        <path id=\"DejaVuSans-30\" d=\"M 2034 4250 \nQ 1547 4250 1301 3770 \nQ 1056 3291 1056 2328 \nQ 1056 1369 1301 889 \nQ 1547 409 2034 409 \nQ 2525 409 2770 889 \nQ 3016 1369 3016 2328 \nQ 3016 3291 2770 3770 \nQ 2525 4250 2034 4250 \nz\nM 2034 4750 \nQ 2819 4750 3233 4129 \nQ 3647 3509 3647 2328 \nQ 3647 1150 3233 529 \nQ 2819 -91 2034 -91 \nQ 1250 -91 836 529 \nQ 422 1150 422 2328 \nQ 422 3509 836 4129 \nQ 1250 4750 2034 4750 \nz\n\" transform=\"scale(0.015625)\"/>\n       </defs>\n       <use xlink:href=\"#DejaVuSans-30\"/>\n      </g>\n     </g>\n    </g>\n    <g id=\"xtick_2\">\n     <g id=\"line2d_2\">\n      <g>\n       <use xlink:href=\"#m811b73ab6f\" x=\"129.454382\" y=\"288.430125\" style=\"stroke: #000000; stroke-width: 0.8\"/>\n      </g>\n     </g>\n     <g id=\"text_2\">\n      <!-- 100 -->\n      <g transform=\"translate(119.910632 303.028562) scale(0.1 -0.1)\">\n       <defs>\n        <path id=\"DejaVuSans-31\" d=\"M 794 531 \nL 1825 531 \nL 1825 4091 \nL 703 3866 \nL 703 4441 \nL 1819 4666 \nL 2450 4666 \nL 2450 531 \nL 3481 531 \nL 3481 0 \nL 794 0 \nL 794 531 \nz\n\" transform=\"scale(0.015625)\"/>\n       </defs>\n       <use xlink:href=\"#DejaVuSans-31\"/>\n       <use xlink:href=\"#DejaVuSans-30\" x=\"63.623047\"/>\n       <use xlink:href=\"#DejaVuSans-30\" x=\"127.246094\"/>\n      </g>\n     </g>\n    </g>\n    <g id=\"xtick_3\">\n     <g id=\"line2d_3\">\n      <g>\n       <use xlink:href=\"#m811b73ab6f\" x=\"195.710412\" y=\"288.430125\" style=\"stroke: #000000; stroke-width: 0.8\"/>\n      </g>\n     </g>\n     <g id=\"text_3\">\n      <!-- 200 -->\n      <g transform=\"translate(186.166662 303.028562) scale(0.1 -0.1)\">\n       <defs>\n        <path id=\"DejaVuSans-32\" d=\"M 1228 531 \nL 3431 531 \nL 3431 0 \nL 469 0 \nL 469 531 \nQ 828 903 1448 1529 \nQ 2069 2156 2228 2338 \nQ 2531 2678 2651 2914 \nQ 2772 3150 2772 3378 \nQ 2772 3750 2511 3984 \nQ 2250 4219 1831 4219 \nQ 1534 4219 1204 4116 \nQ 875 4013 500 3803 \nL 500 4441 \nQ 881 4594 1212 4672 \nQ 1544 4750 1819 4750 \nQ 2544 4750 2975 4387 \nQ 3406 4025 3406 3419 \nQ 3406 3131 3298 2873 \nQ 3191 2616 2906 2266 \nQ 2828 2175 2409 1742 \nQ 1991 1309 1228 531 \nz\n\" transform=\"scale(0.015625)\"/>\n       </defs>\n       <use xlink:href=\"#DejaVuSans-32\"/>\n       <use xlink:href=\"#DejaVuSans-30\" x=\"63.623047\"/>\n       <use xlink:href=\"#DejaVuSans-30\" x=\"127.246094\"/>\n      </g>\n     </g>\n    </g>\n    <g id=\"xtick_4\">\n     <g id=\"line2d_4\">\n      <g>\n       <use xlink:href=\"#m811b73ab6f\" x=\"261.966441\" y=\"288.430125\" style=\"stroke: #000000; stroke-width: 0.8\"/>\n      </g>\n     </g>\n     <g id=\"text_4\">\n      <!-- 300 -->\n      <g transform=\"translate(252.422691 303.028562) scale(0.1 -0.1)\">\n       <defs>\n        <path id=\"DejaVuSans-33\" d=\"M 2597 2516 \nQ 3050 2419 3304 2112 \nQ 3559 1806 3559 1356 \nQ 3559 666 3084 287 \nQ 2609 -91 1734 -91 \nQ 1441 -91 1130 -33 \nQ 819 25 488 141 \nL 488 750 \nQ 750 597 1062 519 \nQ 1375 441 1716 441 \nQ 2309 441 2620 675 \nQ 2931 909 2931 1356 \nQ 2931 1769 2642 2001 \nQ 2353 2234 1838 2234 \nL 1294 2234 \nL 1294 2753 \nL 1863 2753 \nQ 2328 2753 2575 2939 \nQ 2822 3125 2822 3475 \nQ 2822 3834 2567 4026 \nQ 2313 4219 1838 4219 \nQ 1578 4219 1281 4162 \nQ 984 4106 628 3988 \nL 628 4550 \nQ 988 4650 1302 4700 \nQ 1616 4750 1894 4750 \nQ 2613 4750 3031 4423 \nQ 3450 4097 3450 3541 \nQ 3450 3153 3228 2886 \nQ 3006 2619 2597 2516 \nz\n\" transform=\"scale(0.015625)\"/>\n       </defs>\n       <use xlink:href=\"#DejaVuSans-33\"/>\n       <use xlink:href=\"#DejaVuSans-30\" x=\"63.623047\"/>\n       <use xlink:href=\"#DejaVuSans-30\" x=\"127.246094\"/>\n      </g>\n     </g>\n    </g>\n    <g id=\"xtick_5\">\n     <g id=\"line2d_5\">\n      <g>\n       <use xlink:href=\"#m811b73ab6f\" x=\"328.222471\" y=\"288.430125\" style=\"stroke: #000000; stroke-width: 0.8\"/>\n      </g>\n     </g>\n     <g id=\"text_5\">\n      <!-- 400 -->\n      <g transform=\"translate(318.678721 303.028562) scale(0.1 -0.1)\">\n       <defs>\n        <path id=\"DejaVuSans-34\" d=\"M 2419 4116 \nL 825 1625 \nL 2419 1625 \nL 2419 4116 \nz\nM 2253 4666 \nL 3047 4666 \nL 3047 1625 \nL 3713 1625 \nL 3713 1100 \nL 3047 1100 \nL 3047 0 \nL 2419 0 \nL 2419 1100 \nL 313 1100 \nL 313 1709 \nL 2253 4666 \nz\n\" transform=\"scale(0.015625)\"/>\n       </defs>\n       <use xlink:href=\"#DejaVuSans-34\"/>\n       <use xlink:href=\"#DejaVuSans-30\" x=\"63.623047\"/>\n       <use xlink:href=\"#DejaVuSans-30\" x=\"127.246094\"/>\n      </g>\n     </g>\n    </g>\n    <g id=\"xtick_6\">\n     <g id=\"line2d_6\">\n      <g>\n       <use xlink:href=\"#m811b73ab6f\" x=\"394.478501\" y=\"288.430125\" style=\"stroke: #000000; stroke-width: 0.8\"/>\n      </g>\n     </g>\n     <g id=\"text_6\">\n      <!-- 500 -->\n      <g transform=\"translate(384.934751 303.028562) scale(0.1 -0.1)\">\n       <defs>\n        <path id=\"DejaVuSans-35\" d=\"M 691 4666 \nL 3169 4666 \nL 3169 4134 \nL 1269 4134 \nL 1269 2991 \nQ 1406 3038 1543 3061 \nQ 1681 3084 1819 3084 \nQ 2600 3084 3056 2656 \nQ 3513 2228 3513 1497 \nQ 3513 744 3044 326 \nQ 2575 -91 1722 -91 \nQ 1428 -91 1123 -41 \nQ 819 9 494 109 \nL 494 744 \nQ 775 591 1075 516 \nQ 1375 441 1709 441 \nQ 2250 441 2565 725 \nQ 2881 1009 2881 1497 \nQ 2881 1984 2565 2268 \nQ 2250 2553 1709 2553 \nQ 1456 2553 1204 2497 \nQ 953 2441 691 2322 \nL 691 4666 \nz\n\" transform=\"scale(0.015625)\"/>\n       </defs>\n       <use xlink:href=\"#DejaVuSans-35\"/>\n       <use xlink:href=\"#DejaVuSans-30\" x=\"63.623047\"/>\n       <use xlink:href=\"#DejaVuSans-30\" x=\"127.246094\"/>\n      </g>\n     </g>\n    </g>\n    <g id=\"text_7\">\n     <!-- Episode -->\n     <g transform=\"translate(205.888125 316.706687) scale(0.1 -0.1)\">\n      <defs>\n       <path id=\"DejaVuSans-45\" d=\"M 628 4666 \nL 3578 4666 \nL 3578 4134 \nL 1259 4134 \nL 1259 2753 \nL 3481 2753 \nL 3481 2222 \nL 1259 2222 \nL 1259 531 \nL 3634 531 \nL 3634 0 \nL 628 0 \nL 628 4666 \nz\n\" transform=\"scale(0.015625)\"/>\n       <path id=\"DejaVuSans-70\" d=\"M 1159 525 \nL 1159 -1331 \nL 581 -1331 \nL 581 3500 \nL 1159 3500 \nL 1159 2969 \nQ 1341 3281 1617 3432 \nQ 1894 3584 2278 3584 \nQ 2916 3584 3314 3078 \nQ 3713 2572 3713 1747 \nQ 3713 922 3314 415 \nQ 2916 -91 2278 -91 \nQ 1894 -91 1617 61 \nQ 1341 213 1159 525 \nz\nM 3116 1747 \nQ 3116 2381 2855 2742 \nQ 2594 3103 2138 3103 \nQ 1681 3103 1420 2742 \nQ 1159 2381 1159 1747 \nQ 1159 1113 1420 752 \nQ 1681 391 2138 391 \nQ 2594 391 2855 752 \nQ 3116 1113 3116 1747 \nz\n\" transform=\"scale(0.015625)\"/>\n       <path id=\"DejaVuSans-69\" d=\"M 603 3500 \nL 1178 3500 \nL 1178 0 \nL 603 0 \nL 603 3500 \nz\nM 603 4863 \nL 1178 4863 \nL 1178 4134 \nL 603 4134 \nL 603 4863 \nz\n\" transform=\"scale(0.015625)\"/>\n       <path id=\"DejaVuSans-73\" d=\"M 2834 3397 \nL 2834 2853 \nQ 2591 2978 2328 3040 \nQ 2066 3103 1784 3103 \nQ 1356 3103 1142 2972 \nQ 928 2841 928 2578 \nQ 928 2378 1081 2264 \nQ 1234 2150 1697 2047 \nL 1894 2003 \nQ 2506 1872 2764 1633 \nQ 3022 1394 3022 966 \nQ 3022 478 2636 193 \nQ 2250 -91 1575 -91 \nQ 1294 -91 989 -36 \nQ 684 19 347 128 \nL 347 722 \nQ 666 556 975 473 \nQ 1284 391 1588 391 \nQ 1994 391 2212 530 \nQ 2431 669 2431 922 \nQ 2431 1156 2273 1281 \nQ 2116 1406 1581 1522 \nL 1381 1569 \nQ 847 1681 609 1914 \nQ 372 2147 372 2553 \nQ 372 3047 722 3315 \nQ 1072 3584 1716 3584 \nQ 2034 3584 2315 3537 \nQ 2597 3491 2834 3397 \nz\n\" transform=\"scale(0.015625)\"/>\n       <path id=\"DejaVuSans-6f\" d=\"M 1959 3097 \nQ 1497 3097 1228 2736 \nQ 959 2375 959 1747 \nQ 959 1119 1226 758 \nQ 1494 397 1959 397 \nQ 2419 397 2687 759 \nQ 2956 1122 2956 1747 \nQ 2956 2369 2687 2733 \nQ 2419 3097 1959 3097 \nz\nM 1959 3584 \nQ 2709 3584 3137 3096 \nQ 3566 2609 3566 1747 \nQ 3566 888 3137 398 \nQ 2709 -91 1959 -91 \nQ 1206 -91 779 398 \nQ 353 888 353 1747 \nQ 353 2609 779 3096 \nQ 1206 3584 1959 3584 \nz\n\" transform=\"scale(0.015625)\"/>\n       <path id=\"DejaVuSans-64\" d=\"M 2906 2969 \nL 2906 4863 \nL 3481 4863 \nL 3481 0 \nL 2906 0 \nL 2906 525 \nQ 2725 213 2448 61 \nQ 2172 -91 1784 -91 \nQ 1150 -91 751 415 \nQ 353 922 353 1747 \nQ 353 2572 751 3078 \nQ 1150 3584 1784 3584 \nQ 2172 3584 2448 3432 \nQ 2725 3281 2906 2969 \nz\nM 947 1747 \nQ 947 1113 1208 752 \nQ 1469 391 1925 391 \nQ 2381 391 2643 752 \nQ 2906 1113 2906 1747 \nQ 2906 2381 2643 2742 \nQ 2381 3103 1925 3103 \nQ 1469 3103 1208 2742 \nQ 947 2381 947 1747 \nz\n\" transform=\"scale(0.015625)\"/>\n       <path id=\"DejaVuSans-65\" d=\"M 3597 1894 \nL 3597 1613 \nL 953 1613 \nQ 991 1019 1311 708 \nQ 1631 397 2203 397 \nQ 2534 397 2845 478 \nQ 3156 559 3463 722 \nL 3463 178 \nQ 3153 47 2828 -22 \nQ 2503 -91 2169 -91 \nQ 1331 -91 842 396 \nQ 353 884 353 1716 \nQ 353 2575 817 3079 \nQ 1281 3584 2069 3584 \nQ 2775 3584 3186 3129 \nQ 3597 2675 3597 1894 \nz\nM 3022 2063 \nQ 3016 2534 2758 2815 \nQ 2500 3097 2075 3097 \nQ 1594 3097 1305 2825 \nQ 1016 2553 972 2059 \nL 3022 2063 \nz\n\" transform=\"scale(0.015625)\"/>\n      </defs>\n      <use xlink:href=\"#DejaVuSans-45\"/>\n      <use xlink:href=\"#DejaVuSans-70\" x=\"63.183594\"/>\n      <use xlink:href=\"#DejaVuSans-69\" x=\"126.660156\"/>\n      <use xlink:href=\"#DejaVuSans-73\" x=\"154.443359\"/>\n      <use xlink:href=\"#DejaVuSans-6f\" x=\"206.542969\"/>\n      <use xlink:href=\"#DejaVuSans-64\" x=\"267.724609\"/>\n      <use xlink:href=\"#DejaVuSans-65\" x=\"331.201172\"/>\n     </g>\n    </g>\n   </g>\n   <g id=\"matplotlib.axis_2\">\n    <g id=\"ytick_1\">\n     <g id=\"line2d_7\">\n      <defs>\n       <path id=\"maf88e39a27\" d=\"M 0 0 \nL -3.5 0 \n\" style=\"stroke: #000000; stroke-width: 0.8\"/>\n      </defs>\n      <g>\n       <use xlink:href=\"#maf88e39a27\" x=\"46.965625\" y=\"281.393854\" style=\"stroke: #000000; stroke-width: 0.8\"/>\n      </g>\n     </g>\n     <g id=\"text_8\">\n      <!-- 0 -->\n      <g transform=\"translate(33.603125 285.193073) scale(0.1 -0.1)\">\n       <use xlink:href=\"#DejaVuSans-30\"/>\n      </g>\n     </g>\n    </g>\n    <g id=\"ytick_2\">\n     <g id=\"line2d_8\">\n      <g>\n       <use xlink:href=\"#maf88e39a27\" x=\"46.965625\" y=\"227.279102\" style=\"stroke: #000000; stroke-width: 0.8\"/>\n      </g>\n     </g>\n     <g id=\"text_9\">\n      <!-- 200 -->\n      <g transform=\"translate(20.878125 231.078321) scale(0.1 -0.1)\">\n       <use xlink:href=\"#DejaVuSans-32\"/>\n       <use xlink:href=\"#DejaVuSans-30\" x=\"63.623047\"/>\n       <use xlink:href=\"#DejaVuSans-30\" x=\"127.246094\"/>\n      </g>\n     </g>\n    </g>\n    <g id=\"ytick_3\">\n     <g id=\"line2d_9\">\n      <g>\n       <use xlink:href=\"#maf88e39a27\" x=\"46.965625\" y=\"173.16435\" style=\"stroke: #000000; stroke-width: 0.8\"/>\n      </g>\n     </g>\n     <g id=\"text_10\">\n      <!-- 400 -->\n      <g transform=\"translate(20.878125 176.963569) scale(0.1 -0.1)\">\n       <use xlink:href=\"#DejaVuSans-34\"/>\n       <use xlink:href=\"#DejaVuSans-30\" x=\"63.623047\"/>\n       <use xlink:href=\"#DejaVuSans-30\" x=\"127.246094\"/>\n      </g>\n     </g>\n    </g>\n    <g id=\"ytick_4\">\n     <g id=\"line2d_10\">\n      <g>\n       <use xlink:href=\"#maf88e39a27\" x=\"46.965625\" y=\"119.049598\" style=\"stroke: #000000; stroke-width: 0.8\"/>\n      </g>\n     </g>\n     <g id=\"text_11\">\n      <!-- 600 -->\n      <g transform=\"translate(20.878125 122.848816) scale(0.1 -0.1)\">\n       <defs>\n        <path id=\"DejaVuSans-36\" d=\"M 2113 2584 \nQ 1688 2584 1439 2293 \nQ 1191 2003 1191 1497 \nQ 1191 994 1439 701 \nQ 1688 409 2113 409 \nQ 2538 409 2786 701 \nQ 3034 994 3034 1497 \nQ 3034 2003 2786 2293 \nQ 2538 2584 2113 2584 \nz\nM 3366 4563 \nL 3366 3988 \nQ 3128 4100 2886 4159 \nQ 2644 4219 2406 4219 \nQ 1781 4219 1451 3797 \nQ 1122 3375 1075 2522 \nQ 1259 2794 1537 2939 \nQ 1816 3084 2150 3084 \nQ 2853 3084 3261 2657 \nQ 3669 2231 3669 1497 \nQ 3669 778 3244 343 \nQ 2819 -91 2113 -91 \nQ 1303 -91 875 529 \nQ 447 1150 447 2328 \nQ 447 3434 972 4092 \nQ 1497 4750 2381 4750 \nQ 2619 4750 2861 4703 \nQ 3103 4656 3366 4563 \nz\n\" transform=\"scale(0.015625)\"/>\n       </defs>\n       <use xlink:href=\"#DejaVuSans-36\"/>\n       <use xlink:href=\"#DejaVuSans-30\" x=\"63.623047\"/>\n       <use xlink:href=\"#DejaVuSans-30\" x=\"127.246094\"/>\n      </g>\n     </g>\n    </g>\n    <g id=\"ytick_5\">\n     <g id=\"line2d_11\">\n      <g>\n       <use xlink:href=\"#maf88e39a27\" x=\"46.965625\" y=\"64.934845\" style=\"stroke: #000000; stroke-width: 0.8\"/>\n      </g>\n     </g>\n     <g id=\"text_12\">\n      <!-- 800 -->\n      <g transform=\"translate(20.878125 68.734064) scale(0.1 -0.1)\">\n       <defs>\n        <path id=\"DejaVuSans-38\" d=\"M 2034 2216 \nQ 1584 2216 1326 1975 \nQ 1069 1734 1069 1313 \nQ 1069 891 1326 650 \nQ 1584 409 2034 409 \nQ 2484 409 2743 651 \nQ 3003 894 3003 1313 \nQ 3003 1734 2745 1975 \nQ 2488 2216 2034 2216 \nz\nM 1403 2484 \nQ 997 2584 770 2862 \nQ 544 3141 544 3541 \nQ 544 4100 942 4425 \nQ 1341 4750 2034 4750 \nQ 2731 4750 3128 4425 \nQ 3525 4100 3525 3541 \nQ 3525 3141 3298 2862 \nQ 3072 2584 2669 2484 \nQ 3125 2378 3379 2068 \nQ 3634 1759 3634 1313 \nQ 3634 634 3220 271 \nQ 2806 -91 2034 -91 \nQ 1263 -91 848 271 \nQ 434 634 434 1313 \nQ 434 1759 690 2068 \nQ 947 2378 1403 2484 \nz\nM 1172 3481 \nQ 1172 3119 1398 2916 \nQ 1625 2713 2034 2713 \nQ 2441 2713 2670 2916 \nQ 2900 3119 2900 3481 \nQ 2900 3844 2670 4047 \nQ 2441 4250 2034 4250 \nQ 1625 4250 1398 4047 \nQ 1172 3844 1172 3481 \nz\n\" transform=\"scale(0.015625)\"/>\n       </defs>\n       <use xlink:href=\"#DejaVuSans-38\"/>\n       <use xlink:href=\"#DejaVuSans-30\" x=\"63.623047\"/>\n       <use xlink:href=\"#DejaVuSans-30\" x=\"127.246094\"/>\n      </g>\n     </g>\n    </g>\n    <g id=\"text_13\">\n     <!-- Total Reward -->\n     <g transform=\"translate(14.798438 187.260844) rotate(-90) scale(0.1 -0.1)\">\n      <defs>\n       <path id=\"DejaVuSans-54\" d=\"M -19 4666 \nL 3928 4666 \nL 3928 4134 \nL 2272 4134 \nL 2272 0 \nL 1638 0 \nL 1638 4134 \nL -19 4134 \nL -19 4666 \nz\n\" transform=\"scale(0.015625)\"/>\n       <path id=\"DejaVuSans-74\" d=\"M 1172 4494 \nL 1172 3500 \nL 2356 3500 \nL 2356 3053 \nL 1172 3053 \nL 1172 1153 \nQ 1172 725 1289 603 \nQ 1406 481 1766 481 \nL 2356 481 \nL 2356 0 \nL 1766 0 \nQ 1100 0 847 248 \nQ 594 497 594 1153 \nL 594 3053 \nL 172 3053 \nL 172 3500 \nL 594 3500 \nL 594 4494 \nL 1172 4494 \nz\n\" transform=\"scale(0.015625)\"/>\n       <path id=\"DejaVuSans-61\" d=\"M 2194 1759 \nQ 1497 1759 1228 1600 \nQ 959 1441 959 1056 \nQ 959 750 1161 570 \nQ 1363 391 1709 391 \nQ 2188 391 2477 730 \nQ 2766 1069 2766 1631 \nL 2766 1759 \nL 2194 1759 \nz\nM 3341 1997 \nL 3341 0 \nL 2766 0 \nL 2766 531 \nQ 2569 213 2275 61 \nQ 1981 -91 1556 -91 \nQ 1019 -91 701 211 \nQ 384 513 384 1019 \nQ 384 1609 779 1909 \nQ 1175 2209 1959 2209 \nL 2766 2209 \nL 2766 2266 \nQ 2766 2663 2505 2880 \nQ 2244 3097 1772 3097 \nQ 1472 3097 1187 3025 \nQ 903 2953 641 2809 \nL 641 3341 \nQ 956 3463 1253 3523 \nQ 1550 3584 1831 3584 \nQ 2591 3584 2966 3190 \nQ 3341 2797 3341 1997 \nz\n\" transform=\"scale(0.015625)\"/>\n       <path id=\"DejaVuSans-6c\" d=\"M 603 4863 \nL 1178 4863 \nL 1178 0 \nL 603 0 \nL 603 4863 \nz\n\" transform=\"scale(0.015625)\"/>\n       <path id=\"DejaVuSans-20\" transform=\"scale(0.015625)\"/>\n       <path id=\"DejaVuSans-52\" d=\"M 2841 2188 \nQ 3044 2119 3236 1894 \nQ 3428 1669 3622 1275 \nL 4263 0 \nL 3584 0 \nL 2988 1197 \nQ 2756 1666 2539 1819 \nQ 2322 1972 1947 1972 \nL 1259 1972 \nL 1259 0 \nL 628 0 \nL 628 4666 \nL 2053 4666 \nQ 2853 4666 3247 4331 \nQ 3641 3997 3641 3322 \nQ 3641 2881 3436 2590 \nQ 3231 2300 2841 2188 \nz\nM 1259 4147 \nL 1259 2491 \nL 2053 2491 \nQ 2509 2491 2742 2702 \nQ 2975 2913 2975 3322 \nQ 2975 3731 2742 3939 \nQ 2509 4147 2053 4147 \nL 1259 4147 \nz\n\" transform=\"scale(0.015625)\"/>\n       <path id=\"DejaVuSans-77\" d=\"M 269 3500 \nL 844 3500 \nL 1563 769 \nL 2278 3500 \nL 2956 3500 \nL 3675 769 \nL 4391 3500 \nL 4966 3500 \nL 4050 0 \nL 3372 0 \nL 2619 2869 \nL 1863 0 \nL 1184 0 \nL 269 3500 \nz\n\" transform=\"scale(0.015625)\"/>\n       <path id=\"DejaVuSans-72\" d=\"M 2631 2963 \nQ 2534 3019 2420 3045 \nQ 2306 3072 2169 3072 \nQ 1681 3072 1420 2755 \nQ 1159 2438 1159 1844 \nL 1159 0 \nL 581 0 \nL 581 3500 \nL 1159 3500 \nL 1159 2956 \nQ 1341 3275 1631 3429 \nQ 1922 3584 2338 3584 \nQ 2397 3584 2469 3576 \nQ 2541 3569 2628 3553 \nL 2631 2963 \nz\n\" transform=\"scale(0.015625)\"/>\n      </defs>\n      <use xlink:href=\"#DejaVuSans-54\"/>\n      <use xlink:href=\"#DejaVuSans-6f\" x=\"44.083984\"/>\n      <use xlink:href=\"#DejaVuSans-74\" x=\"105.265625\"/>\n      <use xlink:href=\"#DejaVuSans-61\" x=\"144.474609\"/>\n      <use xlink:href=\"#DejaVuSans-6c\" x=\"205.753906\"/>\n      <use xlink:href=\"#DejaVuSans-20\" x=\"233.537109\"/>\n      <use xlink:href=\"#DejaVuSans-52\" x=\"265.324219\"/>\n      <use xlink:href=\"#DejaVuSans-65\" x=\"330.306641\"/>\n      <use xlink:href=\"#DejaVuSans-77\" x=\"391.830078\"/>\n      <use xlink:href=\"#DejaVuSans-61\" x=\"473.617188\"/>\n      <use xlink:href=\"#DejaVuSans-72\" x=\"534.896484\"/>\n      <use xlink:href=\"#DejaVuSans-64\" x=\"574.259766\"/>\n     </g>\n    </g>\n   </g>\n   <g id=\"line2d_12\">\n    <path d=\"M 63.198352 276.063551 \nL 63.860913 276.334125 \nL 64.523473 275.062428 \nL 65.186033 274.358937 \nL 66.511154 274.791855 \nL 67.173714 273.980133 \nL 67.836274 273.547215 \nL 69.161395 273.357814 \nL 69.823955 272.951953 \nL 70.486516 273.006068 \nL 71.149076 274.467166 \nL 71.811636 275.008314 \nL 73.799317 274.358937 \nL 74.461877 274.73774 \nL 75.124438 273.547215 \nL 75.786998 273.357814 \nL 76.449558 272.897838 \nL 77.774679 270.733248 \nL 78.437239 270.868535 \nL 79.099799 270.652076 \nL 79.76236 270.570904 \nL 80.42492 271.166166 \nL 81.08748 270.895592 \nL 81.750041 271.599084 \nL 82.412601 271.761428 \nL 83.075161 271.517912 \nL 83.737721 271.653199 \nL 84.400282 272.383748 \nL 85.062842 271.95083 \nL 85.725402 272.140232 \nL 86.387963 271.626142 \nL 89.038204 271.896715 \nL 89.700764 269.353322 \nL 90.363324 270.219158 \nL 91.025885 267.892224 \nL 91.688445 267.459306 \nL 92.351005 265.592347 \nL 93.013566 264.888855 \nL 95.001247 263.914789 \nL 95.663807 263.319527 \nL 96.326367 265.835863 \nL 96.988927 264.591224 \nL 97.651488 265.132371 \nL 98.314048 262.453691 \nL 98.976608 261.452568 \nL 99.639169 259.017404 \nL 100.301729 259.044462 \nL 101.626849 256.663413 \nL 102.28941 250.900191 \nL 102.95197 249.033232 \nL 103.61453 249.114405 \nL 104.277091 251.387224 \nL 104.939651 247.653306 \nL 105.602211 248.221511 \nL 106.264772 247.734478 \nL 106.927332 243.513528 \nL 107.589892 240.80779 \nL 108.252452 230.931848 \nL 108.915013 234.20579 \nL 109.577573 234.801053 \nL 110.240133 232.311774 \nL 110.902694 226.305037 \nL 111.565254 229.335463 \nL 112.227814 228.875487 \nL 112.890375 224.681594 \nL 113.552935 228.577856 \nL 114.215495 230.336586 \nL 114.878055 235.96452 \nL 116.203176 230.093069 \nL 116.865736 230.471872 \nL 117.528297 226.467381 \nL 118.190857 227.306159 \nL 118.853417 225.114512 \nL 119.515978 232.14943 \nL 120.178538 225.980348 \nL 120.841098 225.276856 \nL 121.503658 228.442569 \nL 122.166219 227.901422 \nL 122.828779 230.661274 \nL 123.491339 225.276856 \nL 124.1539 228.415512 \nL 126.14158 208.853029 \nL 126.804141 211.179963 \nL 128.129261 202.54866 \nL 128.791822 203.955644 \nL 129.454382 198.814742 \nL 130.116942 198.462996 \nL 131.442063 193.37621 \nL 132.104623 192.889177 \nL 132.767183 197.867734 \nL 133.429744 200.600529 \nL 134.092304 194.999652 \nL 134.754864 192.212743 \nL 135.417425 185.258997 \nL 136.079985 183.310866 \nL 136.742545 184.799022 \nL 137.405106 181.227448 \nL 138.067666 180.956874 \nL 138.730226 179.955751 \nL 139.392786 177.250014 \nL 140.055347 170.269211 \nL 140.717907 171.595022 \nL 141.380467 169.484547 \nL 142.705588 172.406743 \nL 143.368148 165.236539 \nL 144.030708 162.287285 \nL 144.693269 162.882547 \nL 145.355829 171.730309 \nL 146.018389 160.934416 \nL 146.68095 169.457489 \nL 147.34351 169.971579 \nL 148.00607 169.619834 \nL 148.668631 168.348137 \nL 149.331191 165.750629 \nL 149.993751 169.457489 \nL 150.656311 174.733678 \nL 151.318872 175.95126 \nL 151.981432 170.350383 \nL 152.643992 174.354874 \nL 153.306553 163.180178 \nL 153.969113 161.529678 \nL 154.631673 160.799129 \nL 155.294234 160.961473 \nL 155.956794 161.556735 \nL 156.619354 160.06858 \nL 157.281914 164.614219 \nL 157.944475 164.722448 \nL 158.607035 163.667211 \nL 159.269595 162.963719 \nL 159.932156 163.288408 \nL 160.594716 165.507112 \nL 161.257276 168.753997 \nL 161.919837 171.378563 \nL 162.582397 171.216219 \nL 163.244957 173.272579 \nL 163.907517 168.591653 \nL 164.570078 170.810358 \nL 165.232638 167.779932 \nL 165.895198 170.188038 \nL 167.220319 171.026817 \nL 167.882879 170.539784 \nL 168.545439 169.728063 \nL 169.208 169.105743 \nL 169.87056 168.077563 \nL 171.195681 164.884793 \nL 171.858241 168.023448 \nL 172.520801 169.186916 \nL 173.183362 169.565719 \nL 173.845922 170.160981 \nL 174.508482 169.782178 \nL 175.171042 169.538661 \nL 175.833603 169.809235 \nL 176.496163 170.215096 \nL 177.158723 171.649137 \nL 178.483844 168.781055 \nL 179.146404 169.186916 \nL 179.808965 167.806989 \nL 180.471525 166.724694 \nL 181.796645 165.42594 \nL 182.459206 165.398883 \nL 183.121766 164.749506 \nL 183.784326 164.533047 \nL 185.109447 165.561227 \nL 185.772007 163.77544 \nL 186.434567 166.04826 \nL 187.097128 166.102375 \nL 187.759688 164.776563 \nL 189.084809 162.503744 \nL 190.409929 163.721326 \nL 191.07249 162.449629 \nL 191.73505 163.180178 \nL 193.722731 160.203867 \nL 194.385291 160.934416 \nL 195.047851 162.85549 \nL 195.710412 162.990776 \nL 197.035532 160.717957 \nL 197.698093 162.314342 \nL 198.360653 161.394391 \nL 199.023213 162.097883 \nL 199.685773 159.392145 \nL 200.348334 158.255736 \nL 201.010894 157.931047 \nL 201.673454 157.038154 \nL 202.336015 157.362842 \nL 202.998575 157.092268 \nL 203.661135 156.334662 \nL 204.323696 154.332416 \nL 204.986256 154.251244 \nL 205.648816 154.359473 \nL 206.311376 155.522941 \nL 206.973937 155.955859 \nL 207.636497 156.578178 \nL 208.299057 157.011096 \nL 208.961618 156.14526 \nL 209.624178 156.334662 \nL 210.286738 156.76758 \nL 210.949298 156.848752 \nL 211.611859 156.334662 \nL 212.274419 154.034785 \nL 212.936979 154.630047 \nL 213.59954 156.280547 \nL 214.2621 156.334662 \nL 214.92466 155.766457 \nL 215.587221 156.821695 \nL 216.249781 155.63117 \nL 216.912341 154.738277 \nL 217.574901 154.765334 \nL 218.237462 154.954736 \nL 218.900022 156.307604 \nL 219.562582 155.495883 \nL 220.225143 154.305359 \nL 221.550263 151.031416 \nL 222.212824 147.757474 \nL 222.875384 149.164457 \nL 223.537944 149.516203 \nL 224.200504 146.648121 \nL 224.863065 146.404605 \nL 225.525625 147.703359 \nL 226.188185 147.37867 \nL 226.850746 146.079916 \nL 227.513306 147.838646 \nL 228.175866 146.269318 \nL 228.838426 148.379793 \nL 229.500987 145.32231 \nL 230.163547 145.430539 \nL 230.826107 147.026924 \nL 231.488668 144.970564 \nL 232.151228 142.048367 \nL 232.813788 141.371933 \nL 233.476349 142.64363 \nL 234.138909 140.127294 \nL 234.801469 140.668441 \nL 235.464029 138.476794 \nL 236.12659 141.858966 \nL 236.78915 139.369687 \nL 237.45171 138.963826 \nL 238.114271 138.963826 \nL 238.776831 140.208466 \nL 239.439391 140.289638 \nL 240.101952 140.533154 \nL 241.427072 142.508343 \nL 242.089632 142.697744 \nL 242.752193 138.963826 \nL 243.414753 140.587269 \nL 244.077313 140.181408 \nL 244.739874 140.397867 \nL 245.402434 139.315572 \nL 246.064994 139.072056 \nL 246.727554 134.688761 \nL 247.390115 134.147613 \nL 248.052675 131.928909 \nL 248.715235 130.954843 \nL 249.377796 132.280654 \nL 250.040356 127.816187 \nL 250.702916 127.302097 \nL 251.365477 127.139753 \nL 252.028037 124.677532 \nL 252.690597 123.784638 \nL 253.353157 124.975163 \nL 254.015718 121.538876 \nL 254.678278 120.727155 \nL 255.340838 123.135261 \nL 256.003399 122.891745 \nL 256.665959 125.868056 \nL 257.328519 123.405835 \nL 257.99108 122.729401 \nL 258.65364 122.918802 \nL 259.3162 121.538876 \nL 259.97876 119.482516 \nL 260.641321 123.45995 \nL 261.303881 123.919925 \nL 261.966441 121.241245 \nL 262.629002 119.861319 \nL 263.291562 119.671917 \nL 263.954122 118.454335 \nL 264.616683 118.806081 \nL 265.279243 116.560319 \nL 265.941803 115.586253 \nL 266.604363 116.370917 \nL 267.266924 114.963934 \nL 267.929484 112.636999 \nL 268.592044 112.934631 \nL 269.254605 114.098098 \nL 269.917165 111.473532 \nL 270.579725 114.801589 \nL 271.242285 112.501713 \nL 271.904846 113.232262 \nL 272.567406 111.879393 \nL 273.229966 107.739614 \nL 273.892527 107.631385 \nL 274.555087 108.71368 \nL 275.217647 104.817418 \nL 275.880208 103.626893 \nL 276.542768 103.491606 \nL 277.205328 100.839983 \nL 277.867888 102.544598 \nL 278.530449 99.757688 \nL 279.193009 102.274024 \nL 279.855569 105.250336 \nL 280.51813 102.869287 \nL 281.18069 104.89859 \nL 281.84325 97.620156 \nL 282.505811 91.721648 \nL 283.830931 90.801697 \nL 285.156052 85.633738 \nL 285.818612 84.876131 \nL 286.481172 86.824263 \nL 287.143733 83.279746 \nL 287.806293 71.969763 \nL 288.468853 76.298943 \nL 289.131413 78.030615 \nL 289.793974 74.78373 \nL 290.456534 74.296697 \nL 291.119094 73.972009 \nL 291.781655 80.438722 \nL 292.444215 80.952812 \nL 293.106775 79.383484 \nL 293.769336 82.440968 \nL 295.094456 97.538984 \nL 296.419577 103.004573 \nL 297.082137 101.272901 \nL 297.744697 100.758811 \nL 298.407258 97.593098 \nL 299.069818 93.561549 \nL 299.732378 91.28873 \nL 300.394939 88.312418 \nL 301.057499 77.273009 \nL 301.720059 69.859288 \nL 302.382619 69.182853 \nL 303.70774 69.588714 \nL 304.3703 65.09719 \nL 305.032861 65.908911 \nL 305.695421 62.093821 \nL 306.357981 65.448935 \nL 307.020542 69.913402 \nL 307.683102 82.143336 \nL 308.345662 82.089222 \nL 309.008222 82.170394 \nL 309.670783 84.713787 \nL 310.333343 86.256058 \nL 310.995903 93.805066 \nL 311.658464 94.346213 \nL 312.321024 102.869287 \nL 312.983584 97.349582 \nL 313.646144 95.834369 \nL 314.308705 90.612295 \nL 314.971265 94.860303 \nL 315.633825 96.077885 \nL 316.296386 93.886238 \nL 316.958946 88.934738 \nL 317.621506 89.502943 \nL 318.284067 87.040722 \nL 318.946627 79.897574 \nL 319.609187 85.931369 \nL 320.271747 87.230123 \nL 320.934308 84.740845 \nL 321.596868 84.334984 \nL 322.259428 83.496205 \nL 322.921989 80.384607 \nL 323.584549 83.009173 \nL 324.247109 79.275255 \nL 324.90967 64.934845 \nL 325.57223 64.853673 \nL 326.23479 65.205419 \nL 326.89735 63.094944 \nL 327.559911 62.120878 \nL 328.222471 63.473747 \nL 328.885031 62.553796 \nL 329.547592 62.229108 \nL 330.872712 63.230231 \nL 331.535272 77.300066 \nL 332.197833 72.997943 \nL 332.860393 70.96864 \nL 333.522953 71.780361 \nL 334.185514 73.512034 \nL 334.848074 72.10505 \nL 336.835755 81.061041 \nL 337.498315 81.412787 \nL 338.160875 86.283115 \nL 338.823436 95.888484 \nL 339.485996 97.809557 \nL 340.148556 96.483746 \nL 340.811117 101.056442 \nL 341.473677 101.381131 \nL 342.136237 100.921156 \nL 342.798798 101.895221 \nL 343.461358 102.165795 \nL 344.123918 97.755443 \nL 344.786478 96.564918 \nL 345.449039 89.557058 \nL 346.111599 86.418402 \nL 346.774159 87.446582 \nL 347.43672 89.502943 \nL 348.09928 89.340599 \nL 348.76184 86.310172 \nL 349.424401 87.852443 \nL 350.086961 87.906558 \nL 350.749521 88.691222 \nL 351.412081 85.390222 \nL 352.074642 92.831 \nL 352.737202 92.398082 \nL 353.399762 85.877254 \nL 354.062323 75.893083 \nL 354.724883 74.459042 \nL 355.387443 53.002542 \nL 356.050003 50.810895 \nL 356.712564 50.459149 \nL 357.375124 52.623739 \nL 358.037684 44.750043 \nL 358.700245 42.260764 \nL 359.362805 42.991313 \nL 360.025365 46.021739 \nL 360.687926 53.246059 \nL 361.350486 54.517755 \nL 362.013046 74.431984 \nL 362.675606 75.243706 \nL 363.338167 76.813033 \nL 364.000727 78.950566 \nL 365.325848 64.36664 \nL 365.988408 60.416263 \nL 366.650968 64.934845 \nL 367.313529 65.367763 \nL 367.976089 66.964148 \nL 368.638649 67.451181 \nL 369.301209 54.301296 \nL 369.96377 35.469363 \nL 370.62633 34.414125 \nL 371.28889 47.158149 \nL 371.951451 51.703788 \nL 372.614011 51.947305 \nL 373.276571 56.357657 \nL 373.939131 44.073608 \nL 374.601692 42.856026 \nL 375.264252 39.906772 \nL 375.926812 53.489575 \nL 376.589373 63.44669 \nL 377.251933 55.464764 \nL 377.914493 57.9811 \nL 378.577054 55.572993 \nL 379.239614 61.471501 \nL 379.902174 56.871747 \nL 380.564734 64.47487 \nL 381.227295 41.259641 \nL 381.889855 44.641813 \nL 382.552415 41.178469 \nL 383.214976 46.860518 \nL 383.877536 56.087083 \nL 385.202657 63.96078 \nL 385.865217 57.467009 \nL 386.527777 57.521124 \nL 387.190337 61.092698 \nL 387.852898 82.792714 \nL 387.852898 82.792714 \n\" clip-path=\"url(#pc183d29cb4)\" style=\"fill: none; stroke: #1f77b4; stroke-width: 1.5; stroke-linecap: square\"/>\n   </g>\n   <g id=\"patch_3\">\n    <path d=\"M 46.965625 288.430125 \nL 46.965625 22.318125 \n\" style=\"fill: none; stroke: #000000; stroke-width: 0.8; stroke-linejoin: miter; stroke-linecap: square\"/>\n   </g>\n   <g id=\"patch_4\">\n    <path d=\"M 404.085625 288.430125 \nL 404.085625 22.318125 \n\" style=\"fill: none; stroke: #000000; stroke-width: 0.8; stroke-linejoin: miter; stroke-linecap: square\"/>\n   </g>\n   <g id=\"patch_5\">\n    <path d=\"M 46.965625 288.430125 \nL 404.085625 288.430125 \n\" style=\"fill: none; stroke: #000000; stroke-width: 0.8; stroke-linejoin: miter; stroke-linecap: square\"/>\n   </g>\n   <g id=\"patch_6\">\n    <path d=\"M 46.965625 22.318125 \nL 404.085625 22.318125 \n\" style=\"fill: none; stroke: #000000; stroke-width: 0.8; stroke-linejoin: miter; stroke-linecap: square\"/>\n   </g>\n   <g id=\"text_14\">\n    <!-- DQN Training Progress -->\n    <g transform=\"translate(158.609688 16.318125) scale(0.12 -0.12)\">\n     <defs>\n      <path id=\"DejaVuSans-44\" d=\"M 1259 4147 \nL 1259 519 \nL 2022 519 \nQ 2988 519 3436 956 \nQ 3884 1394 3884 2338 \nQ 3884 3275 3436 3711 \nQ 2988 4147 2022 4147 \nL 1259 4147 \nz\nM 628 4666 \nL 1925 4666 \nQ 3281 4666 3915 4102 \nQ 4550 3538 4550 2338 \nQ 4550 1131 3912 565 \nQ 3275 0 1925 0 \nL 628 0 \nL 628 4666 \nz\n\" transform=\"scale(0.015625)\"/>\n      <path id=\"DejaVuSans-51\" d=\"M 2522 4238 \nQ 1834 4238 1429 3725 \nQ 1025 3213 1025 2328 \nQ 1025 1447 1429 934 \nQ 1834 422 2522 422 \nQ 3209 422 3611 934 \nQ 4013 1447 4013 2328 \nQ 4013 3213 3611 3725 \nQ 3209 4238 2522 4238 \nz\nM 3406 84 \nL 4238 -825 \nL 3475 -825 \nL 2784 -78 \nQ 2681 -84 2626 -87 \nQ 2572 -91 2522 -91 \nQ 1538 -91 948 567 \nQ 359 1225 359 2328 \nQ 359 3434 948 4092 \nQ 1538 4750 2522 4750 \nQ 3503 4750 4090 4092 \nQ 4678 3434 4678 2328 \nQ 4678 1516 4351 937 \nQ 4025 359 3406 84 \nz\n\" transform=\"scale(0.015625)\"/>\n      <path id=\"DejaVuSans-4e\" d=\"M 628 4666 \nL 1478 4666 \nL 3547 763 \nL 3547 4666 \nL 4159 4666 \nL 4159 0 \nL 3309 0 \nL 1241 3903 \nL 1241 0 \nL 628 0 \nL 628 4666 \nz\n\" transform=\"scale(0.015625)\"/>\n      <path id=\"DejaVuSans-6e\" d=\"M 3513 2113 \nL 3513 0 \nL 2938 0 \nL 2938 2094 \nQ 2938 2591 2744 2837 \nQ 2550 3084 2163 3084 \nQ 1697 3084 1428 2787 \nQ 1159 2491 1159 1978 \nL 1159 0 \nL 581 0 \nL 581 3500 \nL 1159 3500 \nL 1159 2956 \nQ 1366 3272 1645 3428 \nQ 1925 3584 2291 3584 \nQ 2894 3584 3203 3211 \nQ 3513 2838 3513 2113 \nz\n\" transform=\"scale(0.015625)\"/>\n      <path id=\"DejaVuSans-67\" d=\"M 2906 1791 \nQ 2906 2416 2648 2759 \nQ 2391 3103 1925 3103 \nQ 1463 3103 1205 2759 \nQ 947 2416 947 1791 \nQ 947 1169 1205 825 \nQ 1463 481 1925 481 \nQ 2391 481 2648 825 \nQ 2906 1169 2906 1791 \nz\nM 3481 434 \nQ 3481 -459 3084 -895 \nQ 2688 -1331 1869 -1331 \nQ 1566 -1331 1297 -1286 \nQ 1028 -1241 775 -1147 \nL 775 -588 \nQ 1028 -725 1275 -790 \nQ 1522 -856 1778 -856 \nQ 2344 -856 2625 -561 \nQ 2906 -266 2906 331 \nL 2906 616 \nQ 2728 306 2450 153 \nQ 2172 0 1784 0 \nQ 1141 0 747 490 \nQ 353 981 353 1791 \nQ 353 2603 747 3093 \nQ 1141 3584 1784 3584 \nQ 2172 3584 2450 3431 \nQ 2728 3278 2906 2969 \nL 2906 3500 \nL 3481 3500 \nL 3481 434 \nz\n\" transform=\"scale(0.015625)\"/>\n      <path id=\"DejaVuSans-50\" d=\"M 1259 4147 \nL 1259 2394 \nL 2053 2394 \nQ 2494 2394 2734 2622 \nQ 2975 2850 2975 3272 \nQ 2975 3691 2734 3919 \nQ 2494 4147 2053 4147 \nL 1259 4147 \nz\nM 628 4666 \nL 2053 4666 \nQ 2838 4666 3239 4311 \nQ 3641 3956 3641 3272 \nQ 3641 2581 3239 2228 \nQ 2838 1875 2053 1875 \nL 1259 1875 \nL 1259 0 \nL 628 0 \nL 628 4666 \nz\n\" transform=\"scale(0.015625)\"/>\n     </defs>\n     <use xlink:href=\"#DejaVuSans-44\"/>\n     <use xlink:href=\"#DejaVuSans-51\" x=\"77.001953\"/>\n     <use xlink:href=\"#DejaVuSans-4e\" x=\"155.712891\"/>\n     <use xlink:href=\"#DejaVuSans-20\" x=\"230.517578\"/>\n     <use xlink:href=\"#DejaVuSans-54\" x=\"262.304688\"/>\n     <use xlink:href=\"#DejaVuSans-72\" x=\"308.638672\"/>\n     <use xlink:href=\"#DejaVuSans-61\" x=\"349.751953\"/>\n     <use xlink:href=\"#DejaVuSans-69\" x=\"411.03125\"/>\n     <use xlink:href=\"#DejaVuSans-6e\" x=\"438.814453\"/>\n     <use xlink:href=\"#DejaVuSans-69\" x=\"502.193359\"/>\n     <use xlink:href=\"#DejaVuSans-6e\" x=\"529.976562\"/>\n     <use xlink:href=\"#DejaVuSans-67\" x=\"593.355469\"/>\n     <use xlink:href=\"#DejaVuSans-20\" x=\"656.832031\"/>\n     <use xlink:href=\"#DejaVuSans-50\" x=\"688.619141\"/>\n     <use xlink:href=\"#DejaVuSans-72\" x=\"747.171875\"/>\n     <use xlink:href=\"#DejaVuSans-6f\" x=\"786.035156\"/>\n     <use xlink:href=\"#DejaVuSans-67\" x=\"847.216797\"/>\n     <use xlink:href=\"#DejaVuSans-72\" x=\"910.693359\"/>\n     <use xlink:href=\"#DejaVuSans-65\" x=\"949.556641\"/>\n     <use xlink:href=\"#DejaVuSans-73\" x=\"1011.080078\"/>\n     <use xlink:href=\"#DejaVuSans-73\" x=\"1063.179688\"/>\n    </g>\n   </g>\n  </g>\n </g>\n <defs>\n  <clipPath id=\"pc183d29cb4\">\n   <rect x=\"46.965625\" y=\"22.318125\" width=\"357.12\" height=\"266.112\"/>\n  </clipPath>\n </defs>\n</svg>\n",
      "image/png": "[encoded data removed]"
     },
     "metadata": {}
    }
   ],
   "metadata": {}
  },
  {
   "cell_type": "code",
   "execution_count": null,
   "source": [],
   "outputs": [],
   "metadata": {}
  }
 ],
 "metadata": {
  "orig_nbformat": 4,
  "language_info": {
   "name": "python",
   "version": "3.10.5",
   "mimetype": "text/x-python",
   "codemirror_mode": {
    "name": "ipython",
    "version": 3
   },
   "pygments_lexer": "ipython3",
   "nbconvert_exporter": "python",
   "file_extension": ".py"
  },
  "kernelspec": {
   "name": "python3",
   "display_name": "Python 3.10.5 64-bit ('base': conda)"
  },
  "interpreter": {
   "hash": "a5aec0d288642b1b2a8762308fcc1919eeddc6238db84841ace959741b262c76"
  }
 },
 "nbformat": 4,
 "nbformat_minor": 2
}